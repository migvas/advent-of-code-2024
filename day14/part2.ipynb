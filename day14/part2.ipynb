{
 "cells": [
  {
   "cell_type": "markdown",
   "metadata": {},
   "source": [
    "# Find the christmas tree"
   ]
  },
  {
   "cell_type": "markdown",
   "metadata": {},
   "source": [
    "Import visualization libs"
   ]
  },
  {
   "cell_type": "code",
   "execution_count": 1,
   "metadata": {},
   "outputs": [],
   "source": [
    "import matplotlib\n",
    "matplotlib.use(\"TkAgg\")\n",
    "import matplotlib.pyplot as plt\n",
    "import numpy as np"
   ]
  },
  {
   "cell_type": "markdown",
   "metadata": {},
   "source": [
    "Set grid size and number of max iterations"
   ]
  },
  {
   "cell_type": "code",
   "execution_count": 2,
   "metadata": {},
   "outputs": [],
   "source": [
    "GRID_X = 101\n",
    "GRID_Y = 103\n",
    "\n",
    "MAX_ITERATIONS = 10000"
   ]
  },
  {
   "cell_type": "markdown",
   "metadata": {},
   "source": [
    "Create the robot class.\n",
    "Save initial position to plot with time skips"
   ]
  },
  {
   "cell_type": "code",
   "execution_count": 3,
   "metadata": {},
   "outputs": [],
   "source": [
    "class Robot:\n",
    "    def __init__(self, pos, vel):\n",
    "        self.x = int(pos[0])\n",
    "        self.y = int(pos[1])\n",
    "        self.vx = int(vel[0])\n",
    "        self.vy = int(vel[1])\n",
    "\n",
    "        self.initial_x = self.x\n",
    "        self.initial_y = self.y\n",
    "\n",
    "    def update_pos(self):\n",
    "        self.x = self.x + self.vx\n",
    "        self.x = self.x % GRID_X\n",
    "\n",
    "        self.y = self.y + self.vy\n",
    "        self.y = self.y % GRID_Y\n",
    "\n",
    "    def time_skip(self, time):\n",
    "        last_x = self.initial_x + time * self.vx\n",
    "        last_x = last_x % GRID_X\n",
    "\n",
    "        last_y = self.initial_y + time * self.vy\n",
    "        last_y = last_y % GRID_Y\n",
    "\n",
    "        return last_x, last_y"
   ]
  },
  {
   "cell_type": "markdown",
   "metadata": {},
   "source": [
    "Read file and create robots in the initial position"
   ]
  },
  {
   "cell_type": "code",
   "execution_count": 4,
   "metadata": {},
   "outputs": [],
   "source": [
    "input_file = \"input.txt\"\n",
    "\n",
    "robots = []\n",
    "\n",
    "with open(input_file, \"r\", encoding=\"utf-8\") as f:\n",
    "    while 1:\n",
    "        robot_line = f.readline().strip()\n",
    "\n",
    "        if not robot_line:\n",
    "            break\n",
    "\n",
    "        p, v = robot_line.split(\" \")\n",
    "\n",
    "        x, y = p.split(\"=\")[-1].split(\",\")\n",
    "        vx, vy = v.split(\"=\")[-1].split(\",\")\n",
    "\n",
    "        robot = Robot((x,y), (vx, vy))\n",
    "\n",
    "        robots.append(robot)"
   ]
  },
  {
   "cell_type": "markdown",
   "metadata": {},
   "source": [
    "Change the robot positions untill MAX_ITERATIONS.\n",
    "At each iteration, compute the variance for each coordinate and save it in an array."
   ]
  },
  {
   "cell_type": "code",
   "execution_count": 5,
   "metadata": {},
   "outputs": [],
   "source": [
    "x_var = []\n",
    "y_var = []\n",
    "\n",
    "for i in range(MAX_ITERATIONS):\n",
    "    x_arr = []\n",
    "    y_arr = []\n",
    "    for r in robots:\n",
    "        r.update_pos()\n",
    "        x_arr.append(r.x)\n",
    "        y_arr.append(r.y)\n",
    "\n",
    "    x_var.append(np.var(x_arr))\n",
    "    y_var.append(np.var(y_arr))\n"
   ]
  },
  {
   "cell_type": "markdown",
   "metadata": {},
   "source": [
    "From plotting I've found that there were a lot of variances over 400 and some under.\n",
    "Let's check where both x and y variances are under 400 in the same iteration.\n",
    "To form the tree the variance must be low because there should be a lot of robots near another."
   ]
  },
  {
   "cell_type": "code",
   "execution_count": 6,
   "metadata": {},
   "outputs": [
    {
     "name": "stdout",
     "output_type": "stream",
     "text": [
      "8087\n"
     ]
    }
   ],
   "source": [
    "for i in range(len(x_var)):\n",
    "    if x_var[i] < 400 and y_var[i] < 400:\n",
    "        print(i + 1)"
   ]
  },
  {
   "cell_type": "markdown",
   "metadata": {},
   "source": [
    "After finding the iteration, let's plot the positions using the time skip and check if the tree is there."
   ]
  },
  {
   "cell_type": "code",
   "execution_count": 7,
   "metadata": {},
   "outputs": [],
   "source": [
    "fig, ax = plt.subplots()\n",
    "\n",
    "grid = np.zeros((GRID_Y, GRID_X))\n",
    "\n",
    "for r in robots:\n",
    "    x,y = r.time_skip(8087)\n",
    "    grid[y, x] = 1\n",
    "\n",
    "ax.imshow(grid, cmap='Greys', origin='upper')\n",
    "\n",
    "plt.show()"
   ]
  }
 ],
 "metadata": {
  "kernelspec": {
   "display_name": ".venv",
   "language": "python",
   "name": "python3"
  },
  "language_info": {
   "codemirror_mode": {
    "name": "ipython",
    "version": 3
   },
   "file_extension": ".py",
   "mimetype": "text/x-python",
   "name": "python",
   "nbconvert_exporter": "python",
   "pygments_lexer": "ipython3",
   "version": "3.11.11"
  }
 },
 "nbformat": 4,
 "nbformat_minor": 2
}
